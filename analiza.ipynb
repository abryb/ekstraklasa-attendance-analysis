{
 "cells": [
  {
   "cell_type": "markdown",
   "metadata": {},
   "source": [
    "# Analiza frekwencji podczas meczów"
   ]
  },
  {
   "cell_type": "markdown",
   "metadata": {},
   "source": [
    "#### Teza\n",
    "\n",
    "Wyniki meczów wpływają na ilość kibiców podczas meczów domowych."
   ]
  },
  {
   "cell_type": "markdown",
   "metadata": {},
   "source": [
    "#### Opis problemu\n",
    "\n",
    "Przeczucie mówi nam, że może istnieć zależność pomiędzy rezultatami ostatnich meczów a frekwencją kibiców podczas meczów domowych. Jeśli by się okazało, że istnieje taka zależność, określenie jej pomogłby w zbudowaniu modelu przewidujące ilość spodziewanych kibiców podczas kolejnego meczu. Model taki mógłby być wykorzystany jako pomoc w sprawnym zarządzaniu organizacją wydarzeń i finansami klubu."
   ]
  },
  {
   "cell_type": "markdown",
   "metadata": {},
   "source": [
    "#### Dane\n",
    "\n",
    "Jako danych używamy rozgrywek ekstraklasy i pucharu polski w latach 2014-2019. Dane z lat 2020 i 2021 nie są wiarygodne ze wzlgędu na pandemię COVOID-19 i obostrzenia z tym związane. Dane zostały pobrane z https://fbref.com/en/comps/36/10747/schedule/2020-2021-Ekstraklasa-Scores-and-Fixtures . \n",
    " \n"
   ]
  },
  {
   "cell_type": "code",
   "execution_count": 1,
   "metadata": {},
   "outputs": [
    {
     "ename": "ImportError",
     "evalue": "this version of pandas is incompatible with numpy < 1.17.3\nyour numpy version is 1.16.2.\nPlease upgrade numpy to >= 1.17.3 to use this pandas version",
     "output_type": "error",
     "traceback": [
      "\u001b[0;31m---------------------------------------------------------------------------\u001b[0m",
      "\u001b[0;31mImportError\u001b[0m                               Traceback (most recent call last)",
      "\u001b[0;32m<ipython-input-1-12cb381454ee>\u001b[0m in \u001b[0;36m<module>\u001b[0;34m\u001b[0m\n\u001b[1;32m      1\u001b[0m \u001b[0;31m# Import python libraries\u001b[0m\u001b[0;34m\u001b[0m\u001b[0;34m\u001b[0m\u001b[0;34m\u001b[0m\u001b[0m\n\u001b[0;32m----> 2\u001b[0;31m \u001b[0;32mimport\u001b[0m \u001b[0mpandas\u001b[0m \u001b[0;32mas\u001b[0m \u001b[0mpd\u001b[0m\u001b[0;34m\u001b[0m\u001b[0;34m\u001b[0m\u001b[0m\n\u001b[0m\u001b[1;32m      3\u001b[0m \u001b[0;32mimport\u001b[0m \u001b[0mre\u001b[0m\u001b[0;34m\u001b[0m\u001b[0;34m\u001b[0m\u001b[0m\n\u001b[1;32m      4\u001b[0m \u001b[0;32mimport\u001b[0m \u001b[0mmatplotlib\u001b[0m\u001b[0;34m.\u001b[0m\u001b[0mpyplot\u001b[0m \u001b[0;32mas\u001b[0m \u001b[0mplt\u001b[0m\u001b[0;34m\u001b[0m\u001b[0;34m\u001b[0m\u001b[0m\n\u001b[1;32m      5\u001b[0m \u001b[0mget_ipython\u001b[0m\u001b[0;34m(\u001b[0m\u001b[0;34m)\u001b[0m\u001b[0;34m.\u001b[0m\u001b[0mrun_line_magic\u001b[0m\u001b[0;34m(\u001b[0m\u001b[0;34m'matplotlib'\u001b[0m\u001b[0;34m,\u001b[0m \u001b[0;34m'inline'\u001b[0m\u001b[0;34m)\u001b[0m\u001b[0;34m\u001b[0m\u001b[0;34m\u001b[0m\u001b[0m\n",
      "\u001b[0;32m~/anaconda3/envs/ekstraklasa-attendance-analysis/lib/python3.7/site-packages/pandas/__init__.py\u001b[0m in \u001b[0;36m<module>\u001b[0;34m\u001b[0m\n\u001b[1;32m     20\u001b[0m \u001b[0;34m\u001b[0m\u001b[0m\n\u001b[1;32m     21\u001b[0m \u001b[0;31m# numpy compat\u001b[0m\u001b[0;34m\u001b[0m\u001b[0;34m\u001b[0m\u001b[0;34m\u001b[0m\u001b[0m\n\u001b[0;32m---> 22\u001b[0;31m from pandas.compat import (\n\u001b[0m\u001b[1;32m     23\u001b[0m     \u001b[0mnp_version_under1p18\u001b[0m \u001b[0;32mas\u001b[0m \u001b[0m_np_version_under1p18\u001b[0m\u001b[0;34m,\u001b[0m\u001b[0;34m\u001b[0m\u001b[0;34m\u001b[0m\u001b[0m\n\u001b[1;32m     24\u001b[0m     \u001b[0mis_numpy_dev\u001b[0m \u001b[0;32mas\u001b[0m \u001b[0m_is_numpy_dev\u001b[0m\u001b[0;34m,\u001b[0m\u001b[0;34m\u001b[0m\u001b[0;34m\u001b[0m\u001b[0m\n",
      "\u001b[0;32m~/anaconda3/envs/ekstraklasa-attendance-analysis/lib/python3.7/site-packages/pandas/compat/__init__.py\u001b[0m in \u001b[0;36m<module>\u001b[0;34m\u001b[0m\n\u001b[1;32m     13\u001b[0m \u001b[0;34m\u001b[0m\u001b[0m\n\u001b[1;32m     14\u001b[0m \u001b[0;32mfrom\u001b[0m \u001b[0mpandas\u001b[0m\u001b[0;34m.\u001b[0m\u001b[0m_typing\u001b[0m \u001b[0;32mimport\u001b[0m \u001b[0mF\u001b[0m\u001b[0;34m\u001b[0m\u001b[0;34m\u001b[0m\u001b[0m\n\u001b[0;32m---> 15\u001b[0;31m from pandas.compat.numpy import (\n\u001b[0m\u001b[1;32m     16\u001b[0m     \u001b[0mis_numpy_dev\u001b[0m\u001b[0;34m,\u001b[0m\u001b[0;34m\u001b[0m\u001b[0;34m\u001b[0m\u001b[0m\n\u001b[1;32m     17\u001b[0m     \u001b[0mnp_array_datetime64_compat\u001b[0m\u001b[0;34m,\u001b[0m\u001b[0;34m\u001b[0m\u001b[0;34m\u001b[0m\u001b[0m\n",
      "\u001b[0;32m~/anaconda3/envs/ekstraklasa-attendance-analysis/lib/python3.7/site-packages/pandas/compat/numpy/__init__.py\u001b[0m in \u001b[0;36m<module>\u001b[0;34m\u001b[0m\n\u001b[1;32m     19\u001b[0m \u001b[0;32mif\u001b[0m \u001b[0m_nlv\u001b[0m \u001b[0;34m<\u001b[0m \u001b[0mVersion\u001b[0m\u001b[0;34m(\u001b[0m\u001b[0m_min_numpy_ver\u001b[0m\u001b[0;34m)\u001b[0m\u001b[0;34m:\u001b[0m\u001b[0;34m\u001b[0m\u001b[0;34m\u001b[0m\u001b[0m\n\u001b[1;32m     20\u001b[0m     raise ImportError(\n\u001b[0;32m---> 21\u001b[0;31m         \u001b[0;34mf\"this version of pandas is incompatible with numpy < {_min_numpy_ver}\\n\"\u001b[0m\u001b[0;34m\u001b[0m\u001b[0;34m\u001b[0m\u001b[0m\n\u001b[0m\u001b[1;32m     22\u001b[0m         \u001b[0;34mf\"your numpy version is {_np_version}.\\n\"\u001b[0m\u001b[0;34m\u001b[0m\u001b[0;34m\u001b[0m\u001b[0m\n\u001b[1;32m     23\u001b[0m         \u001b[0;34mf\"Please upgrade numpy to >= {_min_numpy_ver} to use this pandas version\"\u001b[0m\u001b[0;34m\u001b[0m\u001b[0;34m\u001b[0m\u001b[0m\n",
      "\u001b[0;31mImportError\u001b[0m: this version of pandas is incompatible with numpy < 1.17.3\nyour numpy version is 1.16.2.\nPlease upgrade numpy to >= 1.17.3 to use this pandas version"
     ]
    }
   ],
   "source": [
    "# Import python libraries\n",
    "import pandas as pd\n",
    "import re\n",
    "import matplotlib.pyplot as plt\n",
    "%matplotlib inline\n",
    "plt.rcParams[\"figure.figsize\"] = (20,10)"
   ]
  },
  {
   "cell_type": "markdown",
   "metadata": {},
   "source": [
    "#### Podgląd  surowych danych\n",
    "\n"
   ]
  },
  {
   "cell_type": "code",
   "execution_count": null,
   "metadata": {
    "scrolled": false
   },
   "outputs": [],
   "source": [
    "pd.read_csv(f\"ekstraklasa_2014-2015.csv\")"
   ]
  },
  {
   "cell_type": "markdown",
   "metadata": {},
   "source": [
    "### Przygotowanie danych"
   ]
  },
  {
   "cell_type": "code",
   "execution_count": null,
   "metadata": {},
   "outputs": [],
   "source": [
    "def prepare_season_df(df):\n",
    "    \n",
    "    df.dropna(subset=[\"Attendance\"], inplace=True)\n",
    "    \n",
    "    # This '–'' is special..\n",
    "    df[\"Home goals\"] = df.apply(lambda row: re.match(r\"(\\d+)–(\\d+)\", row[\"Score\"]).group(1), axis=1)\n",
    "    df[\"Away goals\"] = df.apply(lambda row: re.match(r\"(\\d+)–(\\d+)\", row[\"Score\"]).group(2), axis=1)\n",
    "    df[\"Home result\"] = df.apply(lambda row: \"win\" if row[\"Home goals\"] > row[\"Away goals\"] else (\"lost\" if row[\"Home goals\"] < row[\"Away goals\"] else \"drawn\"), axis=1)\n",
    "\n",
    "    last_result = {}\n",
    "    last_result_col = []\n",
    "    last_attendance = {}\n",
    "    attendance_diff_col = []\n",
    "    for index, row in df.iterrows():\n",
    "        last_result_col.append(last_result.get(row[\"Home\"], None))\n",
    "        attendance_diff_col.append(row[\"Attendance\"] - last_attendance.get(row[\"Home\"], row[\"Attendance\"]))\n",
    "        last_attendance[row[\"Home\"]] = row[\"Attendance\"]\n",
    "        if row[\"Home goals\"] > row[\"Away goals\"]:\n",
    "            last_result[row[\"Home\"]] = \"won\"\n",
    "            last_result[row[\"Away\"]] = \"lost\"\n",
    "        elif row[\"Away goals\"] > row[\"Home goals\"]:\n",
    "            last_result[row[\"Home\"]] = \"lost\"\n",
    "            last_result[row[\"Away\"]] = \"won\"\n",
    "        else:\n",
    "            last_result[row[\"Home\"]] = \"drawn\"\n",
    "            last_result[row[\"Away\"]] = \"drawn\"\n",
    "\n",
    "    df[\"Home previous result\"] = last_result_col\n",
    "    df[\"Attendance diff\"] = attendance_diff_col\n",
    "    df[\"Attendance diff %\"] = df.apply(lambda row: 100* row[\"Attendance diff\"] / (row[\"Attendance\"] - row[\"Attendance diff\"]), axis=1)\n",
    "    \n",
    "    # Drop unnecessary columns\n",
    "    df.drop([\"Venue\", \"Referee\", \"Match Report\", \"Notes\", \"Time\", \"Score\"], axis=1, inplace=True)\n",
    "    \n",
    "    return df\n",
    "    \n"
   ]
  },
  {
   "cell_type": "code",
   "execution_count": null,
   "metadata": {},
   "outputs": [],
   "source": [
    "season_dfs = [\n",
    "    pd.read_csv(f\"ekstraklasa_2014-2015.csv\"),\n",
    "    pd.read_csv(f\"ekstraklasa_2015-2016.csv\"),\n",
    "    pd.read_csv(f\"ekstraklasa_2016-2017.csv\"),\n",
    "    pd.read_csv(f\"ekstraklasa_2017-2018.csv\"),\n",
    "    pd.read_csv(f\"ekstraklasa_2018-2019.csv\")\n",
    "]\n",
    "\n",
    "df = pd.concat(list(map(prepare_season_df, season_dfs)))\n",
    "df"
   ]
  },
  {
   "cell_type": "markdown",
   "metadata": {},
   "source": [
    "##  Analiza wpływu wyniku ostatniego meczu na frekwencję podczas meczów domowych"
   ]
  },
  {
   "cell_type": "markdown",
   "metadata": {},
   "source": [
    "#### Analiza ilościowa dla całej ligi\n",
    "\n",
    "Zbadamy jaka część meczów z frekwencją większą niż podczas poprzedniego meczu odbywała się po zwycięstwie."
   ]
  },
  {
   "cell_type": "code",
   "execution_count": null,
   "metadata": {},
   "outputs": [],
   "source": [
    "df.loc[df[\"Attendance diff\"] > 0].groupby(\"Home previous result\").size()"
   ]
  },
  {
   "cell_type": "markdown",
   "metadata": {},
   "source": [
    "Na 703 mecze domowe podczas których frekwencja na stadionie była większa niż podczas porzedniego meczu:  \n",
    "273 rozegraly się po zwycięstwie  \n",
    "181 rozegrały się po remisie  \n",
    "249 rozegrały się po porażce  \n",
    "\n",
    "Te dane pozwalają nam stwiedzić, że rzeczywiście może istnieć zależnośc pomiędzy wygrywaniem a ilością kibiców na stadionie (kto lubi patrzeć jak jego klub przegrywa...)."
   ]
  },
  {
   "cell_type": "markdown",
   "metadata": {},
   "source": [
    "#### Sytuacja w rozbiciu na kluby\n",
    "\n",
    "Przejdźmy do analizy wyników poszczególnych klubów. Najpiew policzymy ile każdy klub rozegrał \"u siebie\" meczów po zwycięstwie w poprzednim meczu,"
   ]
  },
  {
   "cell_type": "code",
   "execution_count": null,
   "metadata": {},
   "outputs": [],
   "source": [
    "home_games_after_victory = df.loc[df[\"Home previous result\"] == \"won\"].groupby(\"Home\").size()\n",
    "home_games_after_victory.sort_values()"
   ]
  },
  {
   "cell_type": "markdown",
   "metadata": {},
   "source": [
    "Kluby z próbką mniejszą niż 10, czyli Zagłębie Sosnowiec, Nowy Sącz, Miedź , GKS Bełchatów i Zawiszę będziemy traktować jako mniej miarodajne ale ciekawe przypadki."
   ]
  },
  {
   "cell_type": "markdown",
   "metadata": {},
   "source": [
    "#### Wizualizacja danych frekwencji\n",
    "Spróbujmy przedstawić dane o frekwencji poszcególnych klubów na wykresie słupkowym. Być może dostrzeżemy jakąś zależność."
   ]
  },
  {
   "cell_type": "code",
   "execution_count": null,
   "metadata": {},
   "outputs": [],
   "source": [
    "def plot_club_attendace(club, sort=False):\n",
    "    colors_dict = {\n",
    "        None: \"grey\",\n",
    "        \"won\": \"green\",\n",
    "        \"lost\": \"red\",\n",
    "        \"drawn\": \"blue\"\n",
    "    }\n",
    "\n",
    "    plot_df =  df.loc[df[\"Home\"] == club]\n",
    "    if sort:\n",
    "        plot_df = plot_df.sort_values(by=[\"Attendance\"])\n",
    "\n",
    "    colors = list(map(lambda x: colors_dict[x], plot_df[\"Home previous result\"]))\n",
    "    print(\"Wykres frekwencji podczas meczów domowych dla: \"+club)\n",
    "    print(\"Zielony - frekwencja na meczu po zwycięstwie\")\n",
    "    print(\"Niebieski - frekwencja na meczu po remisie\")\n",
    "    print(\"Czerwony - frekwencja na meczu po porażce\")\n",
    "    print(\"Szary - frekwencja podczas pierwszego meczu w sezonie\")\n",
    "    plot_df.loc[plot_df[\"Home\"] == club][\"Attendance\"].plot.bar(color=colors)\n"
   ]
  },
  {
   "cell_type": "markdown",
   "metadata": {},
   "source": [
    "#### Wykres frekwencji dla Lecha Poznań"
   ]
  },
  {
   "cell_type": "code",
   "execution_count": null,
   "metadata": {},
   "outputs": [],
   "source": [
    "plot_club_attendace(\"Lech Poznań\", sort=False)"
   ]
  },
  {
   "cell_type": "markdown",
   "metadata": {},
   "source": [
    "Jak widać, na pierwszy rzut oka trudno wykryć jakąś zależność. Wśród słupków wysokich, czyli wskazujących wysoką frekwencją zdają się dominować kolor zielony, oznaczający mecz grany po zwycięstwie. "
   ]
  },
  {
   "cell_type": "markdown",
   "metadata": {},
   "source": [
    "#### Wykres frekwencji dla Wisły Płock"
   ]
  },
  {
   "cell_type": "code",
   "execution_count": null,
   "metadata": {},
   "outputs": [],
   "source": [
    "plot_club_attendace(\"Wisła Płock\", sort=False)"
   ]
  },
  {
   "cell_type": "markdown",
   "metadata": {},
   "source": [
    "Tak samo jak w przypadku Lecha Poznań, słupi zielone wydają się wyższe. Byćmoże intuicja nas nie myli, i zwycięstwa wpływają na frekwencję na stadionie. Przejdźmy do analizy średnich."
   ]
  },
  {
   "cell_type": "markdown",
   "metadata": {},
   "source": [
    "### Średnia frekwencja po zwyciestwie w porównaniu średniej frekwencji po porażce lub remisie\n",
    "\n",
    "Analiza średnich pozwoli dostrzec ogólny wzorzec. "
   ]
  },
  {
   "cell_type": "code",
   "execution_count": null,
   "metadata": {},
   "outputs": [],
   "source": [
    "home_mean_attendance_after_win     = df.loc[df[\"Home previous result\"] == \"won\"].groupby(\"Home\").mean()[\"Attendance\"].astype('int32')\n",
    "home_mean_attendance_after_not_win = df.loc[df[\"Home previous result\"] != \"won\"].groupby(\"Home\").mean()[\"Attendance\"].astype('int32')\n",
    "\n",
    "average_attendence_df = pd.DataFrame({\n",
    "    \"Number of samples\": home_games_after_victory,\n",
    "    \"Average attendance after defeat or draw\": home_mean_attendance_after_not_win,\n",
    "    \"Average attendance after victory\": home_mean_attendance_after_win,\n",
    "})\n",
    "\n",
    "average_attendence_df[\"diff %\"] = average_attendence_df.apply(lambda row: (100 *(row[\"Average attendance after victory\"]/row[\"Average attendance after defeat or draw\"])-100), axis=1)"
   ]
  },
  {
   "cell_type": "markdown",
   "metadata": {},
   "source": [
    "#### Wykres średniej frekwencji po meczach wygranych i po meczach zremisowanych/przegranych w rozbiciu na kluby."
   ]
  },
  {
   "cell_type": "code",
   "execution_count": null,
   "metadata": {},
   "outputs": [],
   "source": [
    "average_attendence_df[['Average attendance after defeat or draw', \"Average attendance after victory\"]].sort_values(by=[\"Average attendance after defeat or draw\"]).plot.bar()"
   ]
  },
  {
   "cell_type": "markdown",
   "metadata": {},
   "source": [
    "Na wykresie wyrażnie widać, że średnia frekwencja po meczu wygranym jest zauważalnie większa niż średnia po meczach zremisowany/przegranych. Przejdźmy do wartości liczbowych. "
   ]
  },
  {
   "cell_type": "code",
   "execution_count": null,
   "metadata": {},
   "outputs": [],
   "source": [
    "average_attendence_df.sort_values(by=[\"diff %\"]).round({'diff %': 2})"
   ]
  },
  {
   "cell_type": "code",
   "execution_count": null,
   "metadata": {},
   "outputs": [],
   "source": [
    "average_attendence_df.mean()"
   ]
  },
  {
   "cell_type": "markdown",
   "metadata": {},
   "source": [
    "\n",
    "#### Wnioski\n",
    "\n",
    "1. Dla 18 z 23 analizowanych klubów, średnia frekwencja po zwycięstwie była większa\n",
    "2. Przeciętnie frekwencja po zwycięstwie była o 17,09% większa niż po remisie lub porażce.\n",
    "3. Po pominięciu rezultatów dla klubów z małą próbą (mniejzą niż 10), rekordzistą jest Wisła Kraków. Po zwycięstwie klub mógł liczyć średnio na frekwencję wiekszą o 53% niż po meczu przegranym lub remisie."
   ]
  },
  {
   "cell_type": "markdown",
   "metadata": {},
   "source": [
    "### Róznica w frekwencji po zwycięskich meczach z meczu na mecz"
   ]
  },
  {
   "cell_type": "markdown",
   "metadata": {},
   "source": [
    "Wiemy już, że dla większości klubów, średnia frekwencja kibiców jest większa po zwycięstwie niż po remisie lub porażce. Teraz zbadamy jak zwycięstwo wpływa na frekwencję podczas następnego meczu. Da nam to obraz dynamiki zmian w ilości kibców.\n",
    "\n",
    "Zaczniemy od przedstawienia wykresów obrazującyh różnicę w ilości kibców pomiędzy poszczególnymi meczami granymi u siebie."
   ]
  },
  {
   "cell_type": "code",
   "execution_count": null,
   "metadata": {},
   "outputs": [],
   "source": [
    "def plot_club_attendace_diff(club, sort=False):\n",
    "    colors_dict = {\n",
    "        None: \"grey\",\n",
    "        \"won\": \"green\",\n",
    "        \"lost\": \"red\",\n",
    "        \"drawn\": \"blue\"\n",
    "    }\n",
    "\n",
    "    plot_df =  df.loc[df[\"Home\"] == club]\n",
    "    if sort:\n",
    "        plot_df = plot_df.sort_values(by=[\"Attendance diff\"])\n",
    "\n",
    "    colors = list(map(lambda x: colors_dict[x], plot_df[\"Home previous result\"]))\n",
    "    print(\"Wykres różnicy frekwencji podczas meczów domowych dla: \"+club)\n",
    "    print(\"Zielony - różnica frekwencji po zwycięskim meczu\")\n",
    "    print(\"Niebieski - różnica frekwencji po zremisowanym meczu\")\n",
    "    print(\"Czerwony - różnica frekwencji po przegranym meczu\")\n",
    "    plot_df.loc[plot_df[\"Home\"] == club][\"Attendance diff\"].plot.bar(color=colors)\n",
    "    "
   ]
  },
  {
   "cell_type": "markdown",
   "metadata": {},
   "source": [
    "#### Różnica w frekwencji pomiędzy poszczególnymi meczami domowymi Lecha Poznań"
   ]
  },
  {
   "cell_type": "code",
   "execution_count": null,
   "metadata": {},
   "outputs": [],
   "source": [
    "plot_club_attendace_diff(\"Lech Poznań\")"
   ]
  },
  {
   "cell_type": "markdown",
   "metadata": {},
   "source": [
    "#### Różnica w frekwencji pomiędzy poszczególnymi meczami domowymi Wisły Płock"
   ]
  },
  {
   "cell_type": "code",
   "execution_count": null,
   "metadata": {},
   "outputs": [],
   "source": [
    "plot_club_attendace_diff(\"Wisła Płock\")"
   ]
  },
  {
   "cell_type": "markdown",
   "metadata": {},
   "source": [
    "Na wykresie przestwiajacym dane dla Wisły Płock wyraźnie widać, że wzrosty frekwencji z meczu na mecz są ściśle powiązane z wygraną"
   ]
  },
  {
   "cell_type": "markdown",
   "metadata": {},
   "source": [
    "#### Analiza średniej różnicy w ilości kibiców po wygranych meczach"
   ]
  },
  {
   "cell_type": "code",
   "execution_count": null,
   "metadata": {},
   "outputs": [],
   "source": [
    "attendace_diff_df = df.loc[df[\"Home previous result\"] == \"won\"].groupby(\"Home\").mean()\n",
    "\n",
    "attendace_diff_result_df = pd.DataFrame({\n",
    "    \"Number of samples\": home_games_after_victory,\n",
    "    \"Average attendance difference after victory\": attendace_diff_df[\"Attendance diff\"],\n",
    "    \"Average attendance difference in % after victory\": attendace_diff_df[\"Attendance diff %\"],\n",
    "})\n",
    "attendace_diff_result_df.sort_values(by=[\"Average attendance difference in % after victory\"])"
   ]
  },
  {
   "cell_type": "code",
   "execution_count": null,
   "metadata": {},
   "outputs": [],
   "source": [
    "attendace_diff_result_df.mean()"
   ]
  },
  {
   "cell_type": "markdown",
   "metadata": {},
   "source": [
    "### wnioski\n",
    "\n",
    "1. Ja widać, wszystkie kluby poza Nowym Sączem i Niecieczą odnotowują większa frekwencję po wygranym meczu. Rekordzista - klub Zawisza po wygranym meczu mogł liczyć średnio aż na 73% większa frekwencję podczas następnego meczu.\n",
    "\n",
    "2. Po odrzucenie klubów z próbką mniejszą niż 10, okazuje się że wszystkie kluby mogły liczyć na względnie większą frekwencję po zwycięskim meczu. \n",
    "\n",
    "3. Z dużych klubów rekordzistą jest Wisła Kraków. Po wygranym meczu, na następny przychodziło średnio o 5783 kibiców więcej niż po meczu przegranym lub zremisowanym."
   ]
  }
 ],
 "metadata": {
  "kernelspec": {
   "display_name": "Python 3",
   "language": "python",
   "name": "python3"
  },
  "language_info": {
   "codemirror_mode": {
    "name": "ipython",
    "version": 3
   },
   "file_extension": ".py",
   "mimetype": "text/x-python",
   "name": "python",
   "nbconvert_exporter": "python",
   "pygments_lexer": "ipython3",
   "version": "3.7.10"
  }
 },
 "nbformat": 4,
 "nbformat_minor": 5
}
